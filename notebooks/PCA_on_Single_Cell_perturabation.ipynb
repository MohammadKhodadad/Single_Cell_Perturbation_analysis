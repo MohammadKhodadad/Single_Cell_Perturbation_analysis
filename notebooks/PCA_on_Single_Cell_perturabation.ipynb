{
 "cells": [
  {
   "cell_type": "code",
   "execution_count": 29,
   "metadata": {},
   "outputs": [],
   "source": [
    "import sys\n",
    "sys.path.append('..')\n",
    "from data.data_reader import *"
   ]
  },
  {
   "cell_type": "code",
   "execution_count": 2,
   "metadata": {},
   "outputs": [],
   "source": [
    "import scanpy as sc\n",
    "import pandas as pd"
   ]
  },
  {
   "cell_type": "code",
   "execution_count": 3,
   "metadata": {},
   "outputs": [
    {
     "name": "stdout",
     "output_type": "stream",
     "text": [
      "File downloaded successfully to 35775512.h5ad\n"
     ]
    }
   ],
   "source": [
    "download_file('https://plus.figshare.com/ndownloader/files/35775512','35775512.h5ad')\n",
    "adata_orig = sc.read_h5ad(\"35775512.h5ad\")\n",
    "adata_orig.X[adata_orig.X == float(\"inf\")]=0"
   ]
  },
  {
   "cell_type": "markdown",
   "metadata": {},
   "source": [
    "### NOW WE DO PCA"
   ]
  },
  {
   "cell_type": "code",
   "execution_count": 17,
   "metadata": {},
   "outputs": [],
   "source": [
    "import numpy as np\n",
    "from sklearn.decomposition import PCA\n",
    "import plotly.express as px\n",
    "n_components=6\n",
    "pca = PCA(n_components=n_components)\n",
    "pca.fit(adata_orig.X)\n",
    "\n",
    "new_X=pca.transform(adata_orig.X)\n",
    "df_to_be_shown=pd.DataFrame(new_X,columns=[f'f{i}' for i in range(n_components)])\n",
    "df_to_be_shown['control']=list(adata_orig.obs.core_control)\n",
    "# fig=px.scatter(df_to_be_shown,x='f0',y='f1',color='control',width=500, height=400)\n",
    "# fig.show()\n",
    "# fig=px.scatter(df_to_be_shown,x='f2',y='f3',color='control',width=500, height=400)\n",
    "# fig.show()\n",
    "# fig=px.scatter(df_to_be_shown,x='f4',y='f5',color='control',width=500, height=400)\n",
    "# fig.show()"
   ]
  },
  {
   "cell_type": "code",
   "execution_count": 45,
   "metadata": {},
   "outputs": [],
   "source": [
    "adata_orig.obs['gene_name']=list(pd.Series(adata_orig.obs.index).apply(lambda x:x.split(\"_\")[1]))"
   ]
  },
  {
   "cell_type": "code",
   "execution_count": 46,
   "metadata": {},
   "outputs": [],
   "source": [
    "def cosine_similarity(A):\n",
    "  AAt=np.matmul(A,A.transpose())\n",
    "  n_A=np.sqrt((A**2).sum(axis=1)).reshape(-1,1)\n",
    "  n_A=np.matmul(n_A,n_A.transpose())\n",
    "  return AAt/(n_A)"
   ]
  },
  {
   "cell_type": "code",
   "execution_count": 47,
   "metadata": {},
   "outputs": [],
   "source": [
    "cos_sim_f=cosine_similarity(np.array(df_to_be_shown.drop(['control'], axis=1)))"
   ]
  },
  {
   "cell_type": "code",
   "execution_count": 48,
   "metadata": {},
   "outputs": [
    {
     "data": {
      "text/plain": [
       "(2679, 2679)"
      ]
     },
     "execution_count": 48,
     "metadata": {},
     "output_type": "execute_result"
    }
   ],
   "source": [
    "cos_sim_f.shape"
   ]
  },
  {
   "cell_type": "code",
   "execution_count": 49,
   "metadata": {},
   "outputs": [],
   "source": [
    "similarity_matrix=np.zeros(cos_sim_f.shape)"
   ]
  },
  {
   "cell_type": "code",
   "execution_count": 50,
   "metadata": {},
   "outputs": [
    {
     "name": "stdout",
     "output_type": "stream",
     "text": [
      "File downloaded successfully to humap2_complexes_20200809.txt\n"
     ]
    }
   ],
   "source": [
    "similarity_db=hu_data_loader()"
   ]
  },
  {
   "cell_type": "code",
   "execution_count": 51,
   "metadata": {},
   "outputs": [],
   "source": [
    "for gene_name in adata_orig.obs.gene_name.unique():\n",
    "    query=query_hu_data(similarity_db,gene_name)\n",
    "    for q in query:\n",
    "        if q in adata_orig.obs.gene_name:\n",
    "            print(\"HI\")\n",
    "    "
   ]
  },
  {
   "cell_type": "code",
   "execution_count": 52,
   "metadata": {},
   "outputs": [
    {
     "data": {
      "text/plain": [
       "['ZNHIT2',\n",
       " 'GHDC',\n",
       " 'SLC7A6OS',\n",
       " 'EAPP',\n",
       " 'ECD',\n",
       " 'TSSC4',\n",
       " 'NCDN',\n",
       " 'ZNHIT2',\n",
       " 'GHDC',\n",
       " 'SLC7A6OS',\n",
       " 'EAPP',\n",
       " 'ECD',\n",
       " 'TSSC4',\n",
       " 'EAPP',\n",
       " 'ECD',\n",
       " 'TSSC4']"
      ]
     },
     "execution_count": 52,
     "metadata": {},
     "output_type": "execute_result"
    }
   ],
   "source": [
    "query"
   ]
  },
  {
   "cell_type": "code",
   "execution_count": 53,
   "metadata": {},
   "outputs": [
    {
     "data": {
      "text/plain": [
       "0"
      ]
     },
     "execution_count": 53,
     "metadata": {},
     "output_type": "execute_result"
    }
   ],
   "source": [
    "(adata_orig.obs.gene_name==q).sum()"
   ]
  },
  {
   "cell_type": "code",
   "execution_count": null,
   "metadata": {},
   "outputs": [],
   "source": []
  }
 ],
 "metadata": {
  "kernelspec": {
   "display_name": "Python 3",
   "language": "python",
   "name": "python3"
  },
  "language_info": {
   "codemirror_mode": {
    "name": "ipython",
    "version": 3
   },
   "file_extension": ".py",
   "mimetype": "text/x-python",
   "name": "python",
   "nbconvert_exporter": "python",
   "pygments_lexer": "ipython3",
   "version": "3.10.11"
  }
 },
 "nbformat": 4,
 "nbformat_minor": 2
}
