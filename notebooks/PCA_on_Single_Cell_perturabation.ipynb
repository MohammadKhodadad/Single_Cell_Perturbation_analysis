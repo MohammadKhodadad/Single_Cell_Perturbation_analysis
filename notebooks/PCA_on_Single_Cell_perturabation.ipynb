{
 "cells": [
  {
   "cell_type": "code",
   "execution_count": 1,
   "metadata": {},
   "outputs": [],
   "source": [
    "import sys\n",
    "sys.path.append('..')\n",
    "from data.data_reader import download_file"
   ]
  },
  {
   "cell_type": "code",
   "execution_count": 2,
   "metadata": {},
   "outputs": [],
   "source": [
    "import scanpy as sc\n",
    "import pandas as pd"
   ]
  },
  {
   "cell_type": "code",
   "execution_count": 3,
   "metadata": {},
   "outputs": [
    {
     "name": "stdout",
     "output_type": "stream",
     "text": [
      "File downloaded successfully to 35775512.h5ad\n"
     ]
    }
   ],
   "source": [
    "download_file('https://plus.figshare.com/ndownloader/files/35775512','35775512.h5ad')\n",
    "adata_orig = sc.read_h5ad(\"35775512.h5ad\")\n",
    "adata_orig.X[adata_orig.X == float(\"inf\")]=0"
   ]
  },
  {
   "cell_type": "markdown",
   "metadata": {},
   "source": [
    "### NOW WE DO PCA"
   ]
  },
  {
   "cell_type": "code",
   "execution_count": 5,
   "metadata": {},
   "outputs": [],
   "source": [
    "import numpy as np\n",
    "from sklearn.decomposition import PCA\n",
    "import plotly.express as px\n",
    "n_components=6\n",
    "pca = PCA(n_components=n_components)\n",
    "pca.fit(adata_orig.X)\n",
    "\n",
    "new_X=pca.transform(adata_orig.X)\n",
    "# df_to_be_shown=pd.DataFrame(new_X,columns=[f'f{i}' for i in range(n_components)])\n",
    "# df_to_be_shown['control']=list(adata_orig.obs.core_control)\n",
    "# fig=px.scatter(df_to_be_shown,x='f0',y='f1',color='control',width=500, height=400)\n",
    "# fig.show()\n",
    "# fig=px.scatter(df_to_be_shown,x='f2',y='f3',color='control',width=500, height=400)\n",
    "# fig.show()\n",
    "# fig=px.scatter(df_to_be_shown,x='f4',y='f5',color='control',width=500, height=400)\n",
    "# fig.show()"
   ]
  },
  {
   "cell_type": "code",
   "execution_count": null,
   "metadata": {},
   "outputs": [],
   "source": []
  }
 ],
 "metadata": {
  "kernelspec": {
   "display_name": "Python 3",
   "language": "python",
   "name": "python3"
  },
  "language_info": {
   "codemirror_mode": {
    "name": "ipython",
    "version": 3
   },
   "file_extension": ".py",
   "mimetype": "text/x-python",
   "name": "python",
   "nbconvert_exporter": "python",
   "pygments_lexer": "ipython3",
   "version": "3.10.11"
  }
 },
 "nbformat": 4,
 "nbformat_minor": 2
}
